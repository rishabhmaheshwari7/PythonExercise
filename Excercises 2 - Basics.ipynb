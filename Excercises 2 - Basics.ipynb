{
 "cells": [
  {
   "cell_type": "markdown",
   "metadata": {},
   "source": [
    "Write a function translate() that will translate a text into \"rövarspråket\" (Swedish for \"robber's language\"). That is, double every consonant and place an occurrence of \"o\" in between. For example, translate(\"this is fun\") should return the string \"tothohisos isos fofunon\"."
   ]
  },
  {
   "cell_type": "code",
   "execution_count": 5,
   "metadata": {},
   "outputs": [
    {
     "name": "stdout",
     "output_type": "stream",
     "text": [
      "tothohisos isos fofunon\n"
     ]
    }
   ],
   "source": [
    "def isVowel(c):\n",
    "    if(c=='a' or c=='e' or c=='i' or c=='o' or c=='u' or c==' '):\n",
    "        return True\n",
    "    return False\n",
    "\n",
    "s=input()\n",
    "ans=\"\"\n",
    "for c in s:\n",
    "    if(not(isVowel(c))):\n",
    "        ans+=c+\"o\"+c\n",
    "    else:\n",
    "        ans+=c\n",
    "\n",
    "\n",
    "print(ans)"
   ]
  },
  {
   "cell_type": "markdown",
   "metadata": {},
   "source": [
    "Define a function sum() and a function multiply() that sums and multiplies (respectively) all the numbers in a list of numbers. For example, sum([1, 2, 3, 4]) should return 10, and multiply([1, 2, 3, 4]) should return 24"
   ]
  },
  {
   "cell_type": "code",
   "execution_count": 6,
   "metadata": {},
   "outputs": [
    {
     "name": "stdout",
     "output_type": "stream",
     "text": [
      "10\n",
      "24\n"
     ]
    }
   ],
   "source": [
    "def sum(l):\n",
    "    ans=0\n",
    "    for x in l:\n",
    "        ans+=x\n",
    "    return ans\n",
    "\n",
    "def multiply(l):\n",
    "    ans=1\n",
    "    for x in l:\n",
    "        ans*=x\n",
    "    return ans\n",
    "\n",
    "l=[1,2,3,4]\n",
    "print(sum(l))\n",
    "print(multiply(l))"
   ]
  },
  {
   "cell_type": "markdown",
   "metadata": {},
   "source": [
    "**Define a function reverse() that computes the reversal of a string. For example, reverse(\"I am testing\") should return the string \"gnitset ma I**"
   ]
  },
  {
   "cell_type": "code",
   "execution_count": 7,
   "metadata": {},
   "outputs": [
    {
     "data": {
      "text/plain": [
       "'gnitset ma I'"
      ]
     },
     "execution_count": 7,
     "metadata": {},
     "output_type": "execute_result"
    }
   ],
   "source": [
    "def reverse(s):\n",
    "    t=s[::-1]\n",
    "    return t\n",
    "\n",
    "s=\"I am testing\"\n",
    "reverse(s)\n",
    "    \n"
   ]
  },
  {
   "cell_type": "markdown",
   "metadata": {},
   "source": [
    "**Define a function is_palindrome() that recognizes palindromes (i.e. words that look the same written backwards). For example, is_palindrome(\"radar\") should return True.**"
   ]
  },
  {
   "cell_type": "code",
   "execution_count": 10,
   "metadata": {},
   "outputs": [
    {
     "name": "stdout",
     "output_type": "stream",
     "text": [
      "True\n"
     ]
    }
   ],
   "source": [
    "def is_palindrome(s):\n",
    "    t=s[::-1]\n",
    "    return t==s\n",
    "\n",
    "s=\"radar\"\n",
    "print(is_palindrome(s))\n"
   ]
  },
  {
   "cell_type": "markdown",
   "metadata": {},
   "source": [
    "**Write a function is_member() that takes a value (i.e. a number, string, etc) x and a list of values a, and returns True if x is a member of a, False otherwise.**"
   ]
  },
  {
   "cell_type": "code",
   "execution_count": 45,
   "metadata": {},
   "outputs": [
    {
     "name": "stdout",
     "output_type": "stream",
     "text": [
      "True\n"
     ]
    }
   ],
   "source": [
    "def is_member(val, l):\n",
    "    for item in l:\n",
    "        if item==val:\n",
    "            return True\n",
    "    return False\n",
    "\n",
    "def is_member2(val,l): #alternate method\n",
    "    return val in l\n",
    "\n",
    "val=5\n",
    "l=[1,5,3,2,8]\n",
    "\n",
    "print(is_member2(val,l))\n",
    "\n"
   ]
  },
  {
   "cell_type": "markdown",
   "metadata": {},
   "source": [
    "**Define a function overlapping() that takes two lists and returns True if they have at least one member in common, False otherwise. You may use your is_member() function, or the in operator, but for the sake of the exercise, you should (also) write it using two nested for-loops.**"
   ]
  },
  {
   "cell_type": "code",
   "execution_count": 15,
   "metadata": {},
   "outputs": [
    {
     "name": "stdout",
     "output_type": "stream",
     "text": [
      "False\n"
     ]
    }
   ],
   "source": [
    "def overlapping(a,b):\n",
    "    for x in a:\n",
    "        for y in b:\n",
    "            if(x==y):\n",
    "                return True\n",
    "    return False\n",
    "\n",
    "a=[1,2]\n",
    "b=[3,4]\n",
    "print( overlapping (a,b) ) "
   ]
  },
  {
   "cell_type": "markdown",
   "metadata": {},
   "source": [
    "# *Define a procedure histogram() that takes a list of integers and prints a histogram to the screen. For example, histogram([4, 9, 7]) should print the following:*(click on next cell to see)\n"
   ]
  },
  {
   "cell_type": "markdown",
   "metadata": {},
   "source": [
    "\n",
    "****\n",
    "*********\n",
    "*******"
   ]
  },
  {
   "cell_type": "code",
   "execution_count": 34,
   "metadata": {},
   "outputs": [
    {
     "name": "stdout",
     "output_type": "stream",
     "text": [
      "@@@@\n",
      "@@@@@@@@@\n",
      "@@@@@@@\n"
     ]
    }
   ],
   "source": [
    "def histogram(l):\n",
    "    for x in l:\n",
    "        print(\"@\"*x)\n",
    "        \n",
    "    pass\n",
    "\n",
    "l=[4,9,7]\n",
    "# for x in l:\n",
    "#     print(\"@\"*x)\n",
    "histogram(l)"
   ]
  },
  {
   "cell_type": "markdown",
   "metadata": {},
   "source": [
    "**Write a function char_freq() that takes a string and builds a frequency listing of the characters contained in it. Represent the frequency listing as a Python dictionary. Try it with something like char_freq(\"abbabcbdbabdbdbabababcbcbab\").**\n",
    "\n"
   ]
  },
  {
   "cell_type": "code",
   "execution_count": 47,
   "metadata": {},
   "outputs": [
    {
     "name": "stdout",
     "output_type": "stream",
     "text": [
      "{'apple': 2, 'ball': 1, 'cat': 1}\n"
     ]
    }
   ],
   "source": [
    "def char_freq(s):\n",
    "    d={}\n",
    "    for x in s:\n",
    "        if x in d: \n",
    "            d[x]+=1\n",
    "        else:\n",
    "            d[x]=1\n",
    "    print(d)\n",
    "\n",
    "\n",
    "char_freq(['apple','apple','ball','cat'])\n",
    "\n"
   ]
  },
  {
   "cell_type": "markdown",
   "metadata": {},
   "source": [
    "A certain childrens game involves starting with a word in a particular category. Each participant in turn says a word, but that word must begin with the final letter of the previous word. Once a word has been given, it cannot be repeated. If an opponent cannot give a word in the category, they fall out of the game. For example, with \"animals\" as the category,\n",
    "Child 1: dog \n",
    "Child 2: goldfish\n",
    "Child 1: hippopotamus\n",
    "Child 2: snake\n",
    "...\n",
    "Your task in this exercise is as follows: Take the following selection of 70 English Pokemon names (extracted from Wikipedia's list of Pokemon) and generate the/a sequence with the highest possible number of Pokemon names where the subsequent name starts with the final letter of the preceding name. No Pokemon name is to be repeated.\n",
    "**audino bagon baltoy banette bidoof braviary bronzor carracosta charmeleon\n",
    "cresselia croagunk darmanitan deino emboar emolga exeggcute gabite\n",
    "girafarig gulpin haxorus heatmor heatran ivysaur jellicent jumpluff kangaskhan\n",
    "kricketune landorus ledyba loudred lumineon lunatone machamp magnezone mamoswine\n",
    "nosepass petilil pidgeotto pikachu pinsir poliwrath poochyena porygon2\n",
    "porygonz registeel relicanth remoraid rufflet sableye scolipede scrafty seaking\n",
    "sealeo silcoon simisear snivy snorlax spoink starly tirtouga trapinch treecko\n",
    "tyrogue vigoroth vulpix wailord wartortle whismur wingull yamask**\n",
    "\n"
   ]
  },
  {
   "cell_type": "code",
   "execution_count": 62,
   "metadata": {},
   "outputs": [
    {
     "name": "stdout",
     "output_type": "stream",
     "text": [
      "['baltoy', 'yamask', 'kangaskhan', 'nosepass', 'sableye', 'emboar', 'registeel', 'landorus', 'scolipede', 'emolga', 'audino']\n"
     ]
    }
   ],
   "source": [
    "# Prepare our lists\n",
    "def name_starts_with(lastletter, names):\n",
    "\tfor index, name in enumerate(names):\n",
    "\t\tif name.startswith(lastletter):\n",
    "\t\t\treturn index\n",
    "\treturn False\n",
    "\n",
    "\n",
    "names=['audino','bagon','baltoy','banette','bidoof','braviary','bronzor',\n",
    "'carracosta','charmeleon','cresselia','croagunk','darmanitan','deino','emboar',\n",
    "'emolga','exeggcute','gabite','girafarig','gulpin','haxorus','heatmor','heatran',\n",
    "'ivysaur','jellicent','jumpluff','kangaskhan','kricketune','landorus','ledyba','loudred',\n",
    "'lumineon','lunatone','machamp','magnezone','mamoswine','nosepass','petilil','pidgeotto',\n",
    "'pikachu','pinsir','poliwrath','poochyena','porygon2','porygonz','registeel','relicanth',\n",
    "'remoraid','rufflet','sableye','scolipede','scrafty','seaking','sealeo','silcoon','simisear',\n",
    "'snivy','snorlax','spoink','starly','tirtouga'\n",
    ",'trapinch','treecko','tyrogue','vigoroth','vulpix','wailord','wartortle','whismur','wingull','yamask']\n",
    "\n",
    "longest_series, current_series = [], []\n",
    "\n",
    "for name in names:\n",
    "\tcurrent_name = name\n",
    "\tcurrent_series.append(current_name) # Add the first name to the series\n",
    "\n",
    "\tnamelist = names[:] # Make a copy of the names list\n",
    "\tnamelist.pop(namelist.index(current_name)) # Remove the first name from the list\n",
    "\n",
    "\tindex = name_starts_with(current_name[-1], namelist) # Get the index of the next name\n",
    "\n",
    "\t# As long as there will be a name that starts with the last letter\n",
    "\t# of the previous word\n",
    "\twhile index is not False:\n",
    "\t\tcurrent_name = namelist[index] # Get this name\n",
    "\t\tcurrent_series.append(current_name) # Add it to the series\n",
    "\t\tnamelist.pop(index) # Remove it from the list\n",
    "\t\tindex = name_starts_with(current_name[-1], namelist) # Get the position of the next one\n",
    "\n",
    "\t# If the current series... ah, this is pretty self explanatory\n",
    "\tif len(current_series) > len(longest_series):\n",
    "\t\tlongest_series = current_series\n",
    "\n",
    "\t# Empty our current series for the next loop\n",
    "\tcurrent_series = []\n",
    "\n",
    "# Print the longest series\n",
    "print (longest_series)\n"
   ]
  },
  {
   "cell_type": "markdown",
   "metadata": {},
   "source": [
    "**Write a program able to play the \"Guess the number\"-game, where the number to be guessed is randomly chosen between 1 and 20. (Source: http://inventwithpython.com) This is how it should work when run in a terminal:\n",
    "\n",
    "Hello! What is your name?\n",
    "Torbjörn\n",
    "Well, Torbjörn, I am thinking of a number between 1 and 20.\n",
    "Take a guess.\n",
    "10\n",
    "Your guess is too low.\n",
    "Take a guess.\n",
    "15\n",
    "Your guess is too low.\n",
    "Take a guess.\n",
    "18\n",
    "Good job, Torbjörn! You guessed my number in 3 guesses!***"
   ]
  },
  {
   "cell_type": "code",
   "execution_count": 55,
   "metadata": {},
   "outputs": [
    {
     "name": "stdout",
     "output_type": "stream",
     "text": [
      "What is your name ? \n",
      "well rt, I am thinking of a number between 1 and 20.Take a guess.\n",
      "Your guess is too high\n",
      "Your guess is too low\n",
      "Good job rt, you guessed my number in 2 guesses!!\n"
     ]
    }
   ],
   "source": [
    "import random\n",
    "print(\"What is your name ? \")\n",
    "name=input()\n",
    "print(\"well {}, I am thinking of a number between 1 and 20.Take a guess.\".format(name))\n",
    "target_num= random.randint(1, 20)\n",
    "t=0\n",
    "guess_num=-1\n",
    "while target_num!=guess_num:\n",
    "    guess_num = int(input())\n",
    "    if target_num-guess_num>0:\n",
    "        print(\"Your guess is too low\")\n",
    "        t+=1\n",
    "    if(target_num -guess_num)<0:\n",
    "        print(\"Your guess is too high\")\n",
    "        t+=1\n",
    "    if(target_num == guess_num):\n",
    "        print(\"Good job {}, you guessed my number in {} guesses!!\".format(name, t))"
   ]
  },
  {
   "cell_type": "markdown",
   "metadata": {},
   "source": [
    "***Write a program that maps a list of words into a list of integers representing the lengths of the correponding words.***\n"
   ]
  },
  {
   "cell_type": "code",
   "execution_count": 59,
   "metadata": {},
   "outputs": [
    {
     "name": "stdout",
     "output_type": "stream",
     "text": [
      "8\n"
     ]
    }
   ],
   "source": [
    "n =int(input())\n",
    "print(n+5)"
   ]
  },
  {
   "cell_type": "code",
   "execution_count": 60,
   "metadata": {},
   "outputs": [
    {
     "name": "stdout",
     "output_type": "stream",
     "text": [
      "[5, 4, 3]\n"
     ]
    }
   ],
   "source": [
    "ls=['apple','ball','cat']\n",
    "l=[len(item) for item in ls]\n",
    "print(l)"
   ]
  }
 ],
 "metadata": {
  "kernelspec": {
   "display_name": "Python 3",
   "language": "python",
   "name": "python3"
  },
  "language_info": {
   "codemirror_mode": {
    "name": "ipython",
    "version": 3
   },
   "file_extension": ".py",
   "mimetype": "text/x-python",
   "name": "python",
   "nbconvert_exporter": "python",
   "pygments_lexer": "ipython3",
   "version": "3.8.9"
  }
 },
 "nbformat": 4,
 "nbformat_minor": 2
}
