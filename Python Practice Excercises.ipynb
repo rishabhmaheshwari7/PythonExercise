{
 "cells": [
  {
   "cell_type": "markdown",
   "metadata": {},
   "source": [
    "<p>Write a Python program that accepts an integer (n) and computes the value of n+nn+nnn.</p>\n",
    "<p> Go to the editor </p>\n",
    "<p>Sample value of n is 5 </p>\n",
    "Expected Result : 615"
   ]
  },
  {
   "cell_type": "code",
   "execution_count": 7,
   "metadata": {},
   "outputs": [
    {
     "name": "stdout",
     "output_type": "stream",
     "text": [
      "615\n"
     ]
    }
   ],
   "source": [
    "n=5\n",
    "print(int(n)+int(str(n)+str(n))+int(str(n)+str(n)+str(n)))"
   ]
  },
  {
   "cell_type": "markdown",
   "metadata": {},
   "source": [
    "Create a program that asks the user to enter their name and their age.\n",
    "Print out a message addressed to them that tells them the year that they will turn 100 years old.\n",
    "\n"
   ]
  },
  {
   "cell_type": "code",
   "execution_count": 10,
   "metadata": {},
   "outputs": [
    {
     "name": "stdout",
     "output_type": "stream",
     "text": [
      "rishabh will turn 100 years old in 79 years\n"
     ]
    }
   ],
   "source": [
    "name= input()\n",
    "age =int(input())\n",
    "print(\"{} will turn 100 years old in {} years\".format(name,100-age))"
   ]
  },
  {
   "cell_type": "markdown",
   "metadata": {},
   "source": [
    "Write a Python program to check a triangle is valid or not"
   ]
  },
  {
   "cell_type": "code",
   "execution_count": 151,
   "metadata": {},
   "outputs": [
    {
     "name": "stdout",
     "output_type": "stream",
     "text": [
      "Valid trianlge\n"
     ]
    }
   ],
   "source": [
    "a,b,c=3,4,5\n",
    "\n",
    "if (a+b)<c or (b+c)<a or (c+a)<b:\n",
    "    print(\"invalid triangle\")\n",
    "else:\n",
    "    print(\"Valid trianlge\")"
   ]
  },
  {
   "cell_type": "markdown",
   "metadata": {},
   "source": [
    "Write a Python program to construct the following pattern, using a nested loop number.\n",
    "1                                                                                                             \n",
    "22                                                                                                            \n",
    "333                                                                                                           \n",
    "4444                                                                                                          \n",
    "55555                                                                                                         \n",
    "666666                                                                                                        \n",
    "7777777                                                                                                       \n",
    "88888888                                                                                                      \n",
    "999999999  "
   ]
  },
  {
   "cell_type": "code",
   "execution_count": 17,
   "metadata": {},
   "outputs": [
    {
     "name": "stdout",
     "output_type": "stream",
     "text": [
      "1 \n",
      "2 2 \n",
      "3 3 3 \n",
      "4 4 4 4 \n",
      "5 5 5 5 5 \n",
      "6 6 6 6 6 6 \n",
      "7 7 7 7 7 7 7 \n",
      "8 8 8 8 8 8 8 8 \n",
      "9 9 9 9 9 9 9 9 9 \n"
     ]
    }
   ],
   "source": [
    "k=1\n",
    "for i in range (1,10):\n",
    "    for j in range (1,i+1):\n",
    "        print(k,end =' ')\n",
    "    print()\n",
    "    k=k+1"
   ]
  },
  {
   "cell_type": "code",
   "execution_count": 9,
   "metadata": {},
   "outputs": [],
   "source": [
    "#  Write a Python program to construct the following pattern, using a nested for loop.\n",
    "# * \n",
    "# * * \n",
    "# * * * \n",
    "# * * * * \n",
    "# * * * * * \n",
    "# * * * * \n",
    "# * * * \n",
    "# * * \n",
    "# *"
   ]
  },
  {
   "cell_type": "code",
   "execution_count": 21,
   "metadata": {},
   "outputs": [
    {
     "name": "stdout",
     "output_type": "stream",
     "text": [
      "* \n",
      "* * \n",
      "* * * \n",
      "* * * * \n",
      "* * * * * \n",
      "* * * * \n",
      "* * * \n",
      "* * \n",
      "* \n"
     ]
    }
   ],
   "source": [
    "for i in range (1,5):\n",
    "    print(\"* \"*i)\n",
    "for j in range (5,0,-1):\n",
    "    print(\"* \"*j)"
   ]
  },
  {
   "cell_type": "code",
   "execution_count": 10,
   "metadata": {},
   "outputs": [],
   "source": [
    "# Write a Python program that accepts a string and calculate the number of digits and letters\n",
    "# Sample Data : \"Python 3.2\"\n",
    "# Expected Output :\n",
    "# Letters 6 \n",
    "# Digits 2"
   ]
  },
  {
   "cell_type": "code",
   "execution_count": 153,
   "metadata": {},
   "outputs": [
    {
     "name": "stdout",
     "output_type": "stream",
     "text": [
      "6 2\n"
     ]
    }
   ],
   "source": [
    "s=\"Python 2.0\"\n",
    "digits=0\n",
    "letters=0\n",
    "\n",
    "for x in s:\n",
    "    if(x.isdigit()):\n",
    "        digits+=1\n",
    "    if(x.isalpha()):\n",
    "        letters+=1\n",
    "\n",
    "print(letters,digits)"
   ]
  },
  {
   "cell_type": "code",
   "execution_count": 11,
   "metadata": {},
   "outputs": [],
   "source": [
    "# Count the number of even and odd numbers from a series of numbers\n",
    "# Input \n",
    "# numbers = (1, 2, 3, 4, 5, 6, 7, 8, 9) # Declaring the tuple\n",
    "# Output\n",
    "# Number of even numbers : 4                                                                                    \n",
    "# Number of odd numbers : 5 "
   ]
  },
  {
   "cell_type": "code",
   "execution_count": 157,
   "metadata": {},
   "outputs": [
    {
     "name": "stdout",
     "output_type": "stream",
     "text": [
      "odd numbers 4 , and even numbers= 5\n"
     ]
    }
   ],
   "source": [
    "numbers = (1, 2, 3, 4, 5, 6, 7, 8, 9)\n",
    "o,e=0,0\n",
    "for x in numbers:\n",
    "    if(x%2==0):\n",
    "        o+=1\n",
    "    else:\n",
    "        e+=1\n",
    "print(\"odd numbers\",o,\", and even numbers=\",e)"
   ]
  },
  {
   "cell_type": "code",
   "execution_count": 158,
   "metadata": {},
   "outputs": [
    {
     "name": "stdout",
     "output_type": "stream",
     "text": [
      "The 6th fibonacci number is 8\n"
     ]
    }
   ],
   "source": [
    "# Write a Python program to get the Fibonacci series between 0 to 50\n",
    "def fib(n):\n",
    "    dp=[0,1,1]\n",
    "    for i in range (3,50):\n",
    "        dp.append(dp[i-1]+dp[i-2])\n",
    "    return dp[n]\n",
    "\n",
    "n=6\n",
    "print(\"The {}th fibonacci number is {}\".format(n,fib(n)))"
   ]
  },
  {
   "cell_type": "code",
   "execution_count": 159,
   "metadata": {},
   "outputs": [
    {
     "name": "stdout",
     "output_type": "stream",
     "text": [
      "[1505, 1540, 1575, 1610, 1645, 1680, 1715, 1750, 1785, 1820, 1855, 1890, 1925, 1960, 1995, 2030, 2065, 2100, 2135, 2170, 2205, 2240, 2275, 2310, 2345, 2380, 2415, 2450, 2485, 2520, 2555, 2590, 2625, 2660, 2695] "
     ]
    }
   ],
   "source": [
    "#  Write a Python program to find those numbers which are divisible by 7 and multiple of 5, between 1500 and 2700\n",
    "ans=[]\n",
    "for i in range (1500,2700):\n",
    "    if(i%7==0 and i%5==0):\n",
    "        ans.append(i)\n",
    "print(ans, end=' ')"
   ]
  },
  {
   "cell_type": "code",
   "execution_count": 138,
   "metadata": {},
   "outputs": [
    {
     "name": "stdout",
     "output_type": "stream",
     "text": [
      "the number was 5 you guessed too low\n"
     ]
    }
   ],
   "source": [
    "# Generate a random number between 1 and 9 (including 1 and 9).\n",
    "# Ask the user to guess the number, then tell them whether they guessed too low, too high, or exactly right. \n",
    "import random\n",
    "target_num= random.randint(1, 9)\n",
    "guess_num = int(input('Guess a number between 1 and 9'))\n",
    "if target_num-guess_num>0:\n",
    "    print(\"the number was {} you guessed too low\".format(target_num))\n",
    "if(target_num -guess_num)<0:\n",
    "    print(\"the number was {} you guessed too high\".format(target_num))\n",
    "if(target_num == guess_num):\n",
    "    print(\"exactly right\")"
   ]
  },
  {
   "cell_type": "code",
   "execution_count": 123,
   "metadata": {},
   "outputs": [],
   "source": [
    "# Write a Python program to check the validity of a password (input from users).\n",
    "# Validation :\n",
    "# At least 1 letter between [a-z] and 1 letter between [A-Z].\n",
    "# At least 1 number between [0-9].\n",
    "# At least 1 character from [$#@].\n",
    "# Minimum length 6 characters.\n",
    "# Maximum length 16 characters.\n",
    "# Input\n",
    "# W3r@100a\n",
    "# Output\n",
    "# Valid password"
   ]
  },
  {
   "cell_type": "code",
   "execution_count": 165,
   "metadata": {},
   "outputs": [
    {
     "name": "stdout",
     "output_type": "stream",
     "text": [
      "valid password\n"
     ]
    }
   ],
   "source": [
    "password=\"hgc@#WEQ467\"\n",
    "\n",
    "sc,lc,special=0,0,0\n",
    "\n",
    "for x in password:\n",
    "    if x>'a' and x<'z':\n",
    "        sc+=1\n",
    "    if x>'A' and x<'Z':\n",
    "        lc+=1\n",
    "    if(x in ['!','@','#','$','%','^','&','*']):\n",
    "        special+=1\n",
    "    \n",
    "print(\"valid password\" if (sc>0 and lc>0 and special>0 and len(password)>=6 and len(password)<=16) else \"invalid password\")"
   ]
  },
  {
   "cell_type": "code",
   "execution_count": 16,
   "metadata": {},
   "outputs": [],
   "source": [
    "# Write a Python program to check a triangle is equilateral, isosceles or scalene.\n",
    "# Note :\n",
    "# An equilateral triangle is a triangle in which all three sides are equal.\n",
    "# A scalene triangle is a triangle that has three unequal sides.\n",
    "# An isosceles triangle is a triangle with (at least) two equal sides."
   ]
  },
  {
   "cell_type": "code",
   "execution_count": 144,
   "metadata": {},
   "outputs": [
    {
     "name": "stdout",
     "output_type": "stream",
     "text": [
      "scalene traingle\n"
     ]
    }
   ],
   "source": [
    "a,b,c=3,4,8\n",
    "if a==b or b==c or c==d:\n",
    "    print(\"isoceles traingle\")\n",
    "if a!=b and b!=c and c!=a:\n",
    "    print(\"scalene traingle\")\n",
    "if a==b and b==c and c==a:\n",
    "    print(\"equilateral triangle\")"
   ]
  },
  {
   "cell_type": "code",
   "execution_count": 146,
   "metadata": {},
   "outputs": [
    {
     "name": "stdout",
     "output_type": "stream",
     "text": [
      "is consonant\n"
     ]
    }
   ],
   "source": [
    "# Write a Python program to check whether an alphabet is a vowel or consonant\n",
    "def checkvowel(c):\n",
    "    if c=='a' or c=='e' or c=='i' or c=='o' or c=='u':\n",
    "        return True\n",
    "    return False\n",
    "\n",
    "\n",
    "c='t'\n",
    "print(\"is vowel\" if checkvowel(c) else \"is consonant\")\n"
   ]
  },
  {
   "cell_type": "code",
   "execution_count": null,
   "metadata": {},
   "outputs": [],
   "source": []
  },
  {
   "cell_type": "code",
   "execution_count": 18,
   "metadata": {},
   "outputs": [],
   "source": [
    "# Write a Python program to check whether a list contains a sublist.\n",
    "# Input\n",
    "# a = [2,4,3,5,7]\n",
    "# b = [4,3]\n",
    "# c = [3,7]\n",
    "# print(is_Sublist(a, b))\n",
    "# print(is_Sublist(a, c))\n",
    "# Output"
   ]
  },
  {
   "cell_type": "code",
   "execution_count": 36,
   "metadata": {},
   "outputs": [
    {
     "name": "stdout",
     "output_type": "stream",
     "text": [
      "False\n",
      "False\n"
     ]
    }
   ],
   "source": [
    "a = [2,4,3,5,7]\n",
    "b = [4,3]\n",
    "c = [3,7]\n"
   ]
  },
  {
   "cell_type": "code",
   "execution_count": 19,
   "metadata": {},
   "outputs": [],
   "source": [
    "# Write a Python program to find common items from two lists.\n",
    "# input\n",
    "# color1 = \"Red\", \"Green\", \"Orange\", \"White\"\n",
    "# color2 = \"Black\", \"Green\", \"White\", \"Pink\"\n",
    "# output\n",
    "# {'Green', 'White'}"
   ]
  },
  {
   "cell_type": "code",
   "execution_count": 55,
   "metadata": {},
   "outputs": [
    {
     "name": "stdout",
     "output_type": "stream",
     "text": [
      "['Green', 'White']\n"
     ]
    }
   ],
   "source": [
    "def intersect(l1,l2):\n",
    "    return list(set(l1) & set(l2))\n",
    "\n",
    "color1 = [\"Red\", \"Green\", \"Orange\", \"White\"]\n",
    "color2 = [\"Black\", \"Green\", \"White\", \"Pink\"]\n",
    "\n",
    "l3=intersect(color1,color2)\n",
    "print(l3)\n",
    "\n"
   ]
  },
  {
   "cell_type": "code",
   "execution_count": 20,
   "metadata": {},
   "outputs": [],
   "source": [
    "# Write a Python program to get the difference between the two lists\n",
    "# Input \n",
    "# list1 = [1, 2, 3, 4]\n",
    "# list2 = [1, 2]\n",
    "# Output\n",
    "# [3,4]"
   ]
  },
  {
   "cell_type": "code",
   "execution_count": 69,
   "metadata": {},
   "outputs": [
    {
     "name": "stdout",
     "output_type": "stream",
     "text": [
      "[3, 4]\n"
     ]
    }
   ],
   "source": [
    "def intersect(l1,l2):\n",
    "    return list(set(l1) - set(l2))\n",
    "\n",
    "list1 = [1, 2, 3, 4]\n",
    "list2 = [1, 2]\n",
    "\n",
    "l3=intersect(list1,list2)\n",
    "print(l3 )"
   ]
  },
  {
   "cell_type": "code",
   "execution_count": 60,
   "metadata": {},
   "outputs": [],
   "source": [
    "# Write a Python program to get the smallest number from a list.\n",
    "# max_num_in_list([1, 2, -8, 0])\n",
    "# return 2\n",
    "# Dont use max function "
   ]
  },
  {
   "cell_type": "code",
   "execution_count": 76,
   "metadata": {},
   "outputs": [
    {
     "name": "stdout",
     "output_type": "stream",
     "text": [
      "min = -8 ,max = 2\n"
     ]
    }
   ],
   "source": [
    "l=[1,2,-8,0]\n",
    "min=10000000\n",
    "max=-min\n",
    "for x in l:\n",
    "    min=x if x<min else min\n",
    "    max=x if x>max else max\n",
    "print (\"min =\", min,\",max =\", max)"
   ]
  },
  {
   "cell_type": "code",
   "execution_count": 22,
   "metadata": {},
   "outputs": [],
   "source": [
    "# Write a Python program to get the frequency of the elements in a list.\n",
    "# input\n",
    "# my_list = [10,10,10,10,20,20,20,20,40,40,50,50,30]\n",
    "# outout\n",
    "# {10: 4, 20: 4, 40: 2, 50: 2, 30: 1}\n"
   ]
  },
  {
   "cell_type": "code",
   "execution_count": 80,
   "metadata": {},
   "outputs": [
    {
     "name": "stdout",
     "output_type": "stream",
     "text": [
      "{10: 4, 20: 4, 40: 2, 50: 2, 30: 1}\n"
     ]
    }
   ],
   "source": [
    "d={}\n",
    "my_list = [10,10,10,10,20,20,20,20,40,40,50,50,30]\n",
    "for x in my_list:\n",
    "    if x in d:\n",
    "        d[x]+=1\n",
    "    else:\n",
    "        d[x]=1\n",
    "\n",
    "print (d)"
   ]
  },
  {
   "cell_type": "code",
   "execution_count": 23,
   "metadata": {},
   "outputs": [],
   "source": [
    "#  Write a Python program to generate all permutations of a list in Python\n",
    "# Input [1,2,3]\n",
    "# Output [(1, 2, 3), (1, 3, 2), (2, 1, 3), (2, 3, 1), (3, 1, 2), (3, 2, 1)]"
   ]
  },
  {
   "cell_type": "code",
   "execution_count": 87,
   "metadata": {},
   "outputs": [
    {
     "name": "stdout",
     "output_type": "stream",
     "text": [
      "[(1, 2, 3), (1, 3, 2), (2, 1, 3), (2, 3, 1), (3, 1, 2), (3, 2, 1)]\n"
     ]
    }
   ],
   "source": [
    "from itertools import permutations\n",
    "l=[1,2,3]\n",
    "ans=list(permutations(l))\n",
    "\n",
    "print(ans)"
   ]
  },
  {
   "cell_type": "code",
   "execution_count": 24,
   "metadata": {},
   "outputs": [],
   "source": [
    "# Write a Python program to remove duplicates from a list.\n",
    "# Input a = [10,20,30,20,10,50,60,40,80,50,40]\n",
    "# Output {40, 10, 80, 50, 20, 60, 30} "
   ]
  },
  {
   "cell_type": "code",
   "execution_count": 88,
   "metadata": {},
   "outputs": [
    {
     "name": "stdout",
     "output_type": "stream",
     "text": [
      "{40, 10, 80, 50, 20, 60, 30}\n"
     ]
    }
   ],
   "source": [
    "a = [10,20,30,20,10,50,60,40,80,50,40]\n",
    "print(set(a))"
   ]
  },
  {
   "cell_type": "code",
   "execution_count": 25,
   "metadata": {},
   "outputs": [],
   "source": [
    "# Write a Python program to find the second smallest number in a list.\n",
    "# input\n",
    "# second_smallest([1, 2, -8, -2, 0])\n",
    "# output\n",
    "# -2"
   ]
  },
  {
   "cell_type": "code",
   "execution_count": 100,
   "metadata": {},
   "outputs": [
    {
     "name": "stdout",
     "output_type": "stream",
     "text": [
      "-2\n"
     ]
    }
   ],
   "source": [
    "def second_smallest(l):\n",
    "    s=set(l) #set beacuse the elements may be repeating\n",
    "    l1=list(s)\n",
    "    l1.sort()\n",
    "    return l1[1]\n",
    "\n",
    "print(second_smallest([1, 2, -8, -2, 0]))"
   ]
  },
  {
   "cell_type": "code",
   "execution_count": 26,
   "metadata": {},
   "outputs": [],
   "source": [
    "# Write a Python program to create a Caesar encryption\n",
    "# Note : In cryptography, a Caesar cipher, also known as Caesar's cipher, the shift cipher, Caesar's code or Caesar shift, is one of the simplest and most widely known encryption techniques.\n",
    "# It is a type of substitution cipher in which each letter in the plaintext is replaced by a letter some fixed number of positions down the alphabet.\n",
    "# For example, with a left shift of 3, D would be replaced by A, E would become B, and so on.\n",
    "# The method is named after Julius Caesar, who used it in his private correspondence.\n",
    "# plaintext:  defend the east wall of the castle\n",
    "# ciphertext: efgfoe uif fbtu xbmm pg uif dbtumf"
   ]
  },
  {
   "cell_type": "code",
   "execution_count": 114,
   "metadata": {},
   "outputs": [
    {
     "name": "stdout",
     "output_type": "stream",
     "text": [
      "efgfoe uif fbtu xbmm pg uif dbtumf\n"
     ]
    }
   ],
   "source": [
    "def ceaserCipher(message, k):\n",
    "    cipher=\"\"\n",
    "    for c in message: \n",
    "        if c!=' ':\n",
    "            cipher+=chr(ord(c)-(26-k)) if (ord(c)+k>122) else chr(ord(c)+k)\n",
    "        else:\n",
    "            cipher+=' '\n",
    "    return cipher\n",
    "\n",
    "message=\"defend the east wall of the castle\"\n",
    "k=1\n",
    "print(ceaserCipher(message, k))"
   ]
  },
  {
   "cell_type": "code",
   "execution_count": 27,
   "metadata": {},
   "outputs": [],
   "source": [
    "# Write a Python program to change a given string to a new string where the first and last chars have been exchanged"
   ]
  },
  {
   "cell_type": "code",
   "execution_count": 41,
   "metadata": {},
   "outputs": [
    {
     "name": "stdout",
     "output_type": "stream",
     "text": [
      "dello worlh\n"
     ]
    }
   ],
   "source": [
    "s=\"hello world\"\n",
    "x=lambda s : s[len(s)-1]+s[1:len(s)-1]+s[0]\n",
    "print(x(s))\n"
   ]
  },
  {
   "cell_type": "code",
   "execution_count": 28,
   "metadata": {},
   "outputs": [],
   "source": [
    "# Write a Python program to count the number of characters (character frequency) in a string.\n",
    "# Expected Result : {'o': 3, 'g': 2, '.': 1, 'e': 1, 'l': 1, 'm': 1, 'c': 1}"
   ]
  },
  {
   "cell_type": "code",
   "execution_count": 38,
   "metadata": {},
   "outputs": [
    {
     "name": "stdout",
     "output_type": "stream",
     "text": [
      "{'b': 1, 'a': 3, 'f': 3, 'o': 2, 'i': 2, 'n': 1, 'w': 2, 'm': 1, 'p': 1}\n"
     ]
    }
   ],
   "source": [
    "def char_freq(s):\n",
    "    d={}\n",
    "    for x in s:\n",
    "        if x in d: \n",
    "            d[x]+=1\n",
    "        else:\n",
    "            d[x]=1\n",
    "    print(d)\n",
    "\n",
    "\n",
    "char_freq(\"bafoianwfiawmfop\")"
   ]
  },
  {
   "cell_type": "code",
   "execution_count": null,
   "metadata": {},
   "outputs": [],
   "source": []
  }
 ],
 "metadata": {
  "kernelspec": {
   "display_name": "Python 3",
   "language": "python",
   "name": "python3"
  },
  "language_info": {
   "codemirror_mode": {
    "name": "ipython",
    "version": 3
   },
   "file_extension": ".py",
   "mimetype": "text/x-python",
   "name": "python",
   "nbconvert_exporter": "python",
   "pygments_lexer": "ipython3",
   "version": "3.8.9"
  }
 },
 "nbformat": 4,
 "nbformat_minor": 4
}
